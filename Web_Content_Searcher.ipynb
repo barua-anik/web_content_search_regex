{
 "cells": [
  {
   "cell_type": "code",
   "execution_count": 1,
   "metadata": {
    "ExecuteTime": {
     "end_time": "2019-10-08T22:11:27.343845Z",
     "start_time": "2019-10-08T22:11:27.271430Z"
    }
   },
   "outputs": [],
   "source": [
    "\"\"\"\n",
    "This is a Python program to fetch web contents by using Regular Expressions.\n",
    "\n",
    "We have a separate YAML config file that mainly contents 2 types of data.\n",
    "    1. List if URL\n",
    "    2. List of Regular Expressions or RegEx\n",
    "\n",
    "The following program will go to all the URL one by one, and then will use the \n",
    "regular expressions to find the content as we needed. For example, in this program,\n",
    "we tried to fetch the <h1> header and <title> information from the URL.\n",
    "\n",
    "Example output:\n",
    "\n",
    "Data Fetching:\n",
    "URL:  https://www.example.com\n",
    "Example Domain\n",
    "Example Domain\n",
    "\n",
    "URL:  https://www.cgi.fi/fi\n",
    "IT- ja liiketoimintakonsultoinnin palvelut | CGI FI\n",
    "<span>Kaikki pilveistymisen elementit</span>\\n\n",
    "\n",
    "\"\"\"\n",
    "\n",
    "# Importing libraries \n",
    "\n",
    "import re\n",
    "import yaml\n",
    "import urllib.request\n",
    "from datetime import datetime\n"
   ]
  },
  {
   "cell_type": "code",
   "execution_count": 2,
   "metadata": {
    "ExecuteTime": {
     "end_time": "2019-10-08T22:11:27.372614Z",
     "start_time": "2019-10-08T22:11:27.348308Z"
    },
    "code_folding": [],
    "scrolled": true
   },
   "outputs": [],
   "source": [
    "# Getting data from configuration file\n",
    "class Content_searcher():\n",
    "    \"\"\" This class takes the YAML confiuration file as the argument, \n",
    "    and extract the list of url and regex. Then regex is used to \n",
    "    find content from the URL.\n",
    "    \"\"\"\n",
    "    \n",
    "    def __init__(self, config_file, url_key, regex_key, output_file):\n",
    "        \"\"\"Initializes the Content_searcher class with the parameters\n",
    "        \n",
    "        Args: \n",
    "        config_file = Name of the YAML config file with URLs and regex \n",
    "        url_key = key to access the list of URLs from YAML config file\n",
    "        regex_key = key to access the list of regex from YAML config file\n",
    "        output_file = Name of the file that will be saved as output\n",
    "        \n",
    "        \"\"\"\n",
    "        self.config_file = config_file\n",
    "        self.url_key = url_key\n",
    "        self.regex_key = regex_key\n",
    "        self.output_file = output_file\n",
    "        \n",
    "    def search_content(self):\n",
    "        \"\"\" This function fetch the contents from the list of URLs in according to \n",
    "        the regular expressions of the YAML config file.\n",
    "        \"\"\"        \n",
    "        \n",
    "        try:\n",
    "\n",
    "            with open(self.output_file, 'a') as f:\n",
    "                time = datetime.now().strftime(\"Date: %d-%m-%Y Time: %I:%M:%S:%f_%p\")\n",
    "\n",
    "                with open(self.config_file) as config_file:\n",
    "\n",
    "                    data = yaml.load(config_file, yaml.FullLoader)\n",
    "                    \n",
    "\n",
    "                    # Extracting the list of URLs\n",
    "\n",
    "                    url_list = data.get(url_key)\n",
    "                    print('List of URLs:')\n",
    "                    for url in url_list:\n",
    "                        print(url)\n",
    "\n",
    "                        \n",
    "                    # Extracting the list of regular expressions \n",
    "                    \n",
    "                    regex_list = data.get(regex_key)\n",
    "                    print('List of RegGex:')\n",
    "                    for regex in regex_list:\n",
    "                        print(regex)\n",
    "                        \n",
    "\n",
    "                    # Fetching the contest \n",
    "                    \n",
    "                    print('Data Fetching:')\n",
    "\n",
    "                    for url in url_list:\n",
    "                        print('URL: ', url)\n",
    "                        req = urllib.request.Request(url)\n",
    "                        resp = urllib.request.urlopen(req)\n",
    "                        respData = resp.read()\n",
    "\n",
    "                        for regex in regex_list:\n",
    "                            contents  = re.findall( regex,str(respData))\n",
    "                            if not contents:\n",
    "                                print('Cannot find content using regex: ', regex)\n",
    "                            else:    \n",
    "                                for content in contents:\n",
    "                                    print(content)\n",
    "                                    \n",
    "                                    # Writing the outputs in the file\n",
    "                                    print('Contents: ', time, content, file = f)\n",
    "\n",
    "                print('\\nProgram executed successfully')\n",
    "        except:\n",
    "            print('\\nOops, ERROR! ')\n",
    "\n",
    "        "
   ]
  },
  {
   "cell_type": "code",
   "execution_count": 3,
   "metadata": {
    "ExecuteTime": {
     "end_time": "2019-10-08T22:11:53.406345Z",
     "start_time": "2019-10-08T22:11:27.377078Z"
    }
   },
   "outputs": [
    {
     "name": "stdout",
     "output_type": "stream",
     "text": [
      "List of URLs:\n",
      "https://www.example.com\n",
      "https://www.cgi.fi/fi\n",
      "https://yle.fi\n",
      "https://www.linkedin.com\n",
      "https://www.google.com\n",
      "https://www.youtube.com\n",
      "https://www.nordea.fi\n",
      "https://www.tori.fi\n",
      "https://www.hs.fi\n",
      "List of RegGex:\n",
      "<title>(.*?)</title>\n",
      "<h1>(.*?)</h1>\n",
      "Data Fetching:\n",
      "URL:  https://www.example.com\n",
      "Example Domain\n",
      "Example Domain\n",
      "URL:  https://www.cgi.fi/fi\n",
      "IT- ja liiketoimintakonsultoinnin palvelut | CGI FI\n",
      "<span>Kaikki pilveistymisen elementit</span>\\n\n",
      "URL:  https://yle.fi\n",
      "Yle.fi - oivalla jotain uutta\n",
      "Cannot find content using regex:  <h1>(.*?)</h1>\n",
      "URL:  https://www.linkedin.com\n",
      "LinkedIn: Log In or Sign Up\n",
      "Cannot find content using regex:  <h1>(.*?)</h1>\n",
      "URL:  https://www.google.com\n",
      "Google\n",
      "Cannot find content using regex:  <h1>(.*?)</h1>\n",
      "URL:  https://www.youtube.com\n",
      "YouTube\n",
      "Cannot find content using regex:  <h1>(.*?)</h1>\n",
      "URL:  https://www.nordea.fi\n",
      "Tervetuloa Nordeaan - Palvelut henkil\\xc3\\xb6asiakkaille | Nordea.fi \n",
      "Cannot find content using regex:  <h1>(.*?)</h1>\n",
      "URL:  https://www.tori.fi\n",
      "Osta ja myy helposti. Ilmoita ilmaiseksi Torissa.\n",
      "Cannot find content using regex:  <h1>(.*?)</h1>\n",
      "URL:  https://www.hs.fi\n",
      "Uutiset | HS.fi\n",
      "Cannot find content using regex:  <h1>(.*?)</h1>\n",
      "\n",
      "Program executed successfully\n"
     ]
    }
   ],
   "source": [
    "configFile_path = r'C:\\Users\\Anik Barua\\Desktop\\Content_Searcher\\config.yaml'\n",
    "url_key = 'URLs'\n",
    "regex_key = 'RegEx'\n",
    "output_file = 'result.txt'\n",
    "\n",
    "Content_searcher(configFile_path,url_key,regex_key,output_file).search_content()"
   ]
  },
  {
   "cell_type": "code",
   "execution_count": null,
   "metadata": {},
   "outputs": [],
   "source": []
  }
 ],
 "metadata": {
  "kernelspec": {
   "display_name": "Python 3",
   "language": "python",
   "name": "python3"
  },
  "language_info": {
   "codemirror_mode": {
    "name": "ipython",
    "version": 3
   },
   "file_extension": ".py",
   "mimetype": "text/x-python",
   "name": "python",
   "nbconvert_exporter": "python",
   "pygments_lexer": "ipython3",
   "version": "3.7.3"
  },
  "toc": {
   "base_numbering": 1,
   "nav_menu": {},
   "number_sections": true,
   "sideBar": true,
   "skip_h1_title": false,
   "title_cell": "Table of Contents",
   "title_sidebar": "Contents",
   "toc_cell": false,
   "toc_position": {},
   "toc_section_display": true,
   "toc_window_display": false
  },
  "varInspector": {
   "cols": {
    "lenName": 16,
    "lenType": 16,
    "lenVar": 40
   },
   "kernels_config": {
    "python": {
     "delete_cmd_postfix": "",
     "delete_cmd_prefix": "del ",
     "library": "var_list.py",
     "varRefreshCmd": "print(var_dic_list())"
    },
    "r": {
     "delete_cmd_postfix": ") ",
     "delete_cmd_prefix": "rm(",
     "library": "var_list.r",
     "varRefreshCmd": "cat(var_dic_list()) "
    }
   },
   "types_to_exclude": [
    "module",
    "function",
    "builtin_function_or_method",
    "instance",
    "_Feature"
   ],
   "window_display": false
  }
 },
 "nbformat": 4,
 "nbformat_minor": 2
}
